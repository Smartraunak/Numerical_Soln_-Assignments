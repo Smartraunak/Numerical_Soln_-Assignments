{
 "cells": [
  {
   "cell_type": "code",
   "execution_count": 2,
   "id": "46eca861",
   "metadata": {
    "id": "46eca861"
   },
   "outputs": [],
   "source": [
    "import numpy as np\n",
    "import matplotlib.pyplot as plt"
   ]
  },
  {
   "cell_type": "code",
   "execution_count": 3,
   "id": "c8f6acc1",
   "metadata": {
    "colab": {
     "base_uri": "https://localhost:8080/"
    },
    "id": "c8f6acc1",
    "outputId": "96a9c0a2-3dec-4df0-db1d-0ef966a3b491"
   },
   "outputs": [
    {
     "data": {
      "text/plain": [
       "array([0. , 0.1, 0.2, 0.3, 0.4, 0.5, 0.6, 0.7, 0.8, 0.9, 1. ])"
      ]
     },
     "execution_count": 3,
     "metadata": {},
     "output_type": "execute_result"
    }
   ],
   "source": [
    "x=np.arange(start=0,stop=1.1,step=0.1)\n",
    "x"
   ]
  },
  {
   "cell_type": "code",
   "execution_count": 4,
   "id": "209f176f",
   "metadata": {
    "colab": {
     "base_uri": "https://localhost:8080/"
    },
    "id": "209f176f",
    "outputId": "6a4fc775-dc46-43c0-969c-8fe8520528e8"
   },
   "outputs": [
    {
     "data": {
      "text/plain": [
       "[2.0, 2.001, 2.008, 2.027, 2.064, 2.125, 2.216, 2.343, 2.512, 2.729, 3.0]"
      ]
     },
     "execution_count": 4,
     "metadata": {},
     "output_type": "execute_result"
    }
   ],
   "source": [
    "y =[]\n",
    "h=0.2\n",
    "for i in range(11):\n",
    "    m=(x[i]**3)+2\n",
    "    y.append(m)\n",
    "y"
   ]
  },
  {
   "cell_type": "code",
   "execution_count": 5,
   "id": "dc05d0b4",
   "metadata": {
    "id": "dc05d0b4"
   },
   "outputs": [],
   "source": [
    "k=6/(h)**2\n",
    "a=[]\n",
    "for i in range(4):\n",
    "    p=2*i\n",
    "    m=k*(y[p]-2*y[p+2]+y[p+4])\n",
    "    a.append(m)\n"
   ]
  },
  {
   "cell_type": "code",
   "execution_count": 6,
   "id": "80ded604",
   "metadata": {
    "colab": {
     "base_uri": "https://localhost:8080/"
    },
    "id": "80ded604",
    "outputId": "d88f28b3-e8f4-45f9-e99e-f4f8c4d56a9e"
   },
   "outputs": [
    {
     "data": {
      "text/plain": [
       "[0,\n",
       " 1.1712918660287075,\n",
       " 2.514832535885174,\n",
       " 3.1693779904306054,\n",
       " 6.407655502392353,\n",
       " 0]"
      ]
     },
     "execution_count": 6,
     "metadata": {},
     "output_type": "execute_result"
    }
   ],
   "source": [
    "\n",
    "A=np.array([[4,1,0,0],[1,4,1,0],[0,1,4,1],[0,0,1,4]])\n",
    "#used linalg to solve matrix\n",
    "S=np.linalg.solve(A,a)\n",
    "M=[]\n",
    "M.append(0)\n",
    "for i in range(4):\n",
    "    M.append(S[i])\n",
    "M.append(0)\n",
    "M\n",
    "    \n",
    "\n",
    "#the values of M"
   ]
  },
  {
   "cell_type": "code",
   "execution_count": 7,
   "id": "86887df0",
   "metadata": {
    "colab": {
     "base_uri": "https://localhost:8080/"
    },
    "id": "86887df0",
    "outputId": "627cb8c2-36dc-4318-80c2-43dc0e60e0a0"
   },
   "outputs": [
    {
     "name": "stdout",
     "output_type": "stream",
     "text": [
      "[2.0010717703349283, 2.0267846889952157, 2.125789473684211, 2.3400574162679417, 2.7399808612440184]\n"
     ]
    },
    {
     "data": {
      "text/plain": [
       "[7.177033492844487e-05,\n",
       " -0.00021531100478444642,\n",
       " 0.0007894736842111172,\n",
       " -0.002942583732058246,\n",
       " 0.010980861244018314]"
      ]
     },
     "execution_count": 7,
     "metadata": {},
     "output_type": "execute_result"
    }
   ],
   "source": [
    "# find polynomial\n",
    "f=[]\n",
    "for k in range (5):\n",
    "    c=0.1+0.1*2*k\n",
    "    d=x[2*(k+1)]-c\n",
    "    e=c-x[2*k]\n",
    "    b=(y[2*(k+1)]/h)*e+(y[2*k]/h)*d+(M[k]/6)*((d**3)/h-h*d)+(M[(k+1)]/6)*((e**3)/h-h*e)\n",
    "    f.append(b)\n",
    "print(f)\n",
    "E=[]\n",
    "for i in range(5):\n",
    "    m=f[i]-y[2*i+1]\n",
    "    E.append(m)\n",
    "E\n"
   ]
  },
  {
   "cell_type": "code",
   "execution_count": 8,
   "id": "f7eb731f",
   "metadata": {
    "id": "f7eb731f"
   },
   "outputs": [],
   "source": [
    "z=np.array([0.1,0.3,0.5,0.7,0.9])"
   ]
  },
  {
   "cell_type": "code",
   "execution_count": 9,
   "id": "0c3e478a",
   "metadata": {
    "colab": {
     "base_uri": "https://localhost:8080/",
     "height": 295
    },
    "id": "0c3e478a",
    "outputId": "f9010cb6-acf8-4571-d0d9-3a9aee1511c4"
   },
   "outputs": [
    {
     "data": {
      "image/png": "[encoded data removed]",
      "text/plain": [
       "<Figure size 640x480 with 1 Axes>"
      ]
     },
     "metadata": {},
     "output_type": "display_data"
    }
   ],
   "source": [
    "plt.plot(z,f,label=\"Cubic spline S(x)\")\n",
    "plt.plot(x,y,label =\"Original f(x)\")\n",
    "plt.xlabel('x')\n",
    "plt.ylabel('f(x)')\n",
    "plt.title('Cubic Spline')\n",
    "plt.legend()\n",
    "plt.show()"
   ]
  },
  {
   "cell_type": "markdown",
   "id": "4e2651b7",
   "metadata": {
    "id": "4e2651b7"
   },
   "source": [
    "### Question:- 2\n",
    "#### For a natural cubic spline, Polynomial should be defferentiable in domain and second derivative at end points is zero"
   ]
  },
  {
   "cell_type": "code",
   "execution_count": 10,
   "id": "86de554e",
   "metadata": {
    "id": "86de554e"
   },
   "outputs": [],
   "source": [
    "def diff(n,A): # n is degree of polynomial\n",
    "    D=[]\n",
    "    for i in range(n):\n",
    "        m=(i+1)*A[i+1]\n",
    "        D.append(m)\n",
    "    return D\n",
    "def value(n,A,a):\n",
    "    m=0\n",
    "    for i in range(n+1):\n",
    "        m+=A[i]*(a**i)\n",
    "    return m\n",
    "        "
   ]
  },
  {
   "cell_type": "code",
   "execution_count": 11,
   "id": "b493a942",
   "metadata": {
    "colab": {
     "base_uri": "https://localhost:8080/"
    },
    "id": "b493a942",
    "outputId": "8841d458-d312-4ecc-c402-9f0c616e0738"
   },
   "outputs": [
    {
     "data": {
      "text/plain": [
       "[-24, -36.0, -18.0, 6.0]"
      ]
     },
     "execution_count": 11,
     "metadata": {},
     "output_type": "execute_result"
    }
   ],
   "source": [
    "# for polynomial such as a*x^2+b*x+c; Array is used to store coffecient like A[0]=c, A[1]=b,A[2]=a\n",
    "P1=np.array([0,0,0,-3])\n",
    "P2=[]\n",
    "for i in range(2):\n",
    "    n=value(3-i,P1,2)\n",
    "    if i==0:\n",
    "        P2.append(n)\n",
    "    else:\n",
    "        P2.append(n/i)\n",
    "    P1=diff(3-i,P1)\n",
    "n=value(1,P1,2)\n",
    "n=n/(i+1)\n",
    "P2.append(n)\n",
    "m=(n/-3)\n",
    "P2.append(m)\n",
    "P2"
   ]
  },
  {
   "cell_type": "code",
   "execution_count": null,
   "id": "6a660e8c",
   "metadata": {
    "id": "6a660e8c"
   },
   "outputs": [],
   "source": []
  }
 ],
 "metadata": {
  "colab": {
   "provenance": []
  },
  "kernelspec": {
   "display_name": "Python 3 (ipykernel)",
   "language": "python",
   "name": "python3"
  },
  "language_info": {
   "codemirror_mode": {
    "name": "ipython",
    "version": 3
   },
   "file_extension": ".py",
   "mimetype": "text/x-python",
   "name": "python",
   "nbconvert_exporter": "python",
   "pygments_lexer": "ipython3",
   "version": "3.9.13"
  }
 },
 "nbformat": 4,
 "nbformat_minor": 5
}
